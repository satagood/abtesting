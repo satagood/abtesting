{
 "cells": [
  {
   "cell_type": "code",
   "execution_count": 1,
   "id": "6f9bc4a5",
   "metadata": {},
   "outputs": [],
   "source": [
    "import matplotlib.pyplot as plt\n",
    "import numpy as np\n",
    "from tqdm.notebook import tqdm as tqdm_notebook"
   ]
  },
  {
   "cell_type": "code",
   "execution_count": 2,
   "id": "fa9b42d9",
   "metadata": {},
   "outputs": [],
   "source": [
    "NUM_TRIALS  = 10000\n",
    "EPS = 0.1\n",
    "BANDIT_PROBABILITIES = [0.2, 0.5, 0.75]"
   ]
  },
  {
   "cell_type": "code",
   "execution_count": 3,
   "id": "94b7824e",
   "metadata": {},
   "outputs": [
    {
     "name": "stdout",
     "output_type": "stream",
     "text": [
      "optimal j: 2\n"
     ]
    },
    {
     "data": {
      "application/vnd.jupyter.widget-view+json": {
       "model_id": "24f92c50974e4453a77a33ae909adb43",
       "version_major": 2,
       "version_minor": 0
      },
      "text/plain": [
       "  0%|          | 0/10000 [00:00<?, ?it/s]"
      ]
     },
     "metadata": {},
     "output_type": "display_data"
    },
    {
     "name": "stdout",
     "output_type": "stream",
     "text": [
      "mean estimate: 0.7272727272727273\n",
      "mean estimate: 0.7222222222222222\n",
      "mean estimate: 0.7430695058256296\n",
      "total reward earned: 7417.0\n",
      "overall win rate: 0.7417\n",
      "num times selected each bandit: [11.0, 36.0, 9956.0]\n"
     ]
    },
    {
     "data": {
      "image/png": "[encoded data removed]",
      "text/plain": [
       "<Figure size 432x288 with 1 Axes>"
      ]
     },
     "metadata": {
      "needs_background": "light"
     },
     "output_type": "display_data"
    }
   ],
   "source": [
    "class Bandit:\n",
    "    def __init__(self, p):\n",
    "        # p: the win rate\n",
    "        self.p = p\n",
    "        self.p_estimate = 5.\n",
    "        self.N = 1. # number of samples collected so far\n",
    "    \n",
    "    def pull(self):\n",
    "        # draw a 1 with prop p\n",
    "        return np.random.random() < self.p\n",
    "    \n",
    "    def update(self, x):\n",
    "        self.N += 1.\n",
    "        self.p_estimate = ((self.N -1)* self.p_estimate + x) / self.N\n",
    "        \n",
    "def experiment():\n",
    "    bandits = [Bandit(p) for p in BANDIT_PROBABILITIES]\n",
    "    \n",
    "    rewards = np.zeros(NUM_TRIALS)\n",
    "    num_times_explored = 0\n",
    "    num_times_exploited = 0\n",
    "    num_optimal = 0\n",
    "    optimal_j = np.argmax([b.p for b in bandits])\n",
    "    print(\"optimal j:\", optimal_j)\n",
    "    \n",
    "    for i in tqdm_notebook(range(NUM_TRIALS)):\n",
    "        \n",
    "        # use optimistic-greedy to select the next bandit\n",
    "\n",
    "        j = np.argmax([b.p_estimate for b in bandits])\n",
    "            \n",
    "        # pull the arm for the bandit with the largest sample\n",
    "        x = bandits[j].pull()\n",
    "        \n",
    "        # update the rewards log\n",
    "        rewards[i] = x\n",
    "        \n",
    "        # update then distribution for the bandit arm we just pulled\n",
    "        bandits[j].update(x)\n",
    "        \n",
    "        \n",
    "        # print mean estimates for each bandit\n",
    "        \n",
    "    for b in bandits:\n",
    "            print(\"mean estimate:\", b.p_estimate)\n",
    "            \n",
    "        # print total rewaed\n",
    "    print(\"total reward earned:\", rewards.sum())\n",
    "    print(\"overall win rate:\", rewards.sum() / NUM_TRIALS)\n",
    "    # print(\"num_times_explored:\", num_times_explored)\n",
    "    # print(\"num_times_exploited\", num_times_exploited)\n",
    "    print(\"num times selected each bandit:\", [b.N for b in bandits])\n",
    "    # print(\"num times selectec optimal bandit:\", num_optimal)\n",
    "\n",
    "    # plot the results\n",
    "\n",
    "    cumulative_rewards = np.cumsum(rewards)\n",
    "    win_rates = cumulative_rewards / (np.arange(NUM_TRIALS) + 1)\n",
    "    plt.plot(win_rates)\n",
    "    plt.plot(np.ones(NUM_TRIALS) * np.max(BANDIT_PROBABILITIES))\n",
    "\n",
    "if __name__ == \"__main__\":\n",
    "    experiment()"
   ]
  },
  {
   "cell_type": "code",
   "execution_count": null,
   "id": "394d36d7",
   "metadata": {},
   "outputs": [],
   "source": []
  }
 ],
 "metadata": {
  "kernelspec": {
   "display_name": "Python 3",
   "language": "python",
   "name": "python3"
  },
  "language_info": {
   "codemirror_mode": {
    "name": "ipython",
    "version": 3
   },
   "file_extension": ".py",
   "mimetype": "text/x-python",
   "name": "python",
   "nbconvert_exporter": "python",
   "pygments_lexer": "ipython3",
   "version": "3.8.8"
  }
 },
 "nbformat": 4,
 "nbformat_minor": 5
}
