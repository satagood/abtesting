{
 "cells": [
  {
   "cell_type": "code",
   "execution_count": 1,
   "id": "620c56bb",
   "metadata": {},
   "outputs": [],
   "source": [
    "import matplotlib.pyplot as plt\n",
    "import numpy as np\n",
    "from tqdm.notebook import tqdm as tqdm_notebook"
   ]
  },
  {
   "cell_type": "code",
   "execution_count": 2,
   "id": "d1de8e63",
   "metadata": {},
   "outputs": [],
   "source": [
    "NUM_TRIALS  = 10000\n",
    "EPS = 0.1\n",
    "BANDIT_PROBABILITIES = [0.2, 0.5, 0.75]"
   ]
  },
  {
   "cell_type": "code",
   "execution_count": 3,
   "id": "f838e219",
   "metadata": {},
   "outputs": [
    {
     "data": {
      "application/vnd.jupyter.widget-view+json": {
       "model_id": "76bff59a32a24b33b6b9a54e7b30261a",
       "version_major": 2,
       "version_minor": 0
      },
      "text/plain": [
       "  0%|          | 0/10000 [00:00<?, ?it/s]"
      ]
     },
     "metadata": {},
     "output_type": "display_data"
    },
    {
     "data": {
      "image/png": "[encoded data removed]",
      "text/plain": [
       "<Figure size 432x288 with 1 Axes>"
      ]
     },
     "metadata": {
      "needs_background": "light"
     },
     "output_type": "display_data"
    },
    {
     "data": {
      "image/png": "[encoded data removed]",
      "text/plain": [
       "<Figure size 432x288 with 1 Axes>"
      ]
     },
     "metadata": {
      "needs_background": "light"
     },
     "output_type": "display_data"
    },
    {
     "name": "stdout",
     "output_type": "stream",
     "text": [
      "0.16666666666666666\n",
      "0.4871794871794872\n",
      "0.7517418032786862\n",
      "total reward earned: 7438.0\n",
      "overall win rate: 0.7438\n",
      "num times selected each bandit: [48.0, 195.0, 9760.0]\n"
     ]
    }
   ],
   "source": [
    "class Bandit:\n",
    "  def __init__(self, p):\n",
    "    # p: the win rate\n",
    "    self.p = p\n",
    "    self.p_estimate = 0.\n",
    "    self.N = 0. # num samples collected so far\n",
    "\n",
    "  def pull(self):\n",
    "    # draw a 1 with probability p\n",
    "    return np.random.random() < self.p\n",
    "\n",
    "  def update(self, x):\n",
    "    self.N += 1.\n",
    "    self.p_estimate = ((self.N - 1)*self.p_estimate + x) / self.N\n",
    "\n",
    "\n",
    "def ucb(mean, n, nj):\n",
    "  return mean + np.sqrt(2*np.log(n) / nj)\n",
    "\n",
    "\n",
    "def run_experiment():\n",
    "  bandits = [Bandit(p) for p in BANDIT_PROBABILITIES]\n",
    "  rewards = np.empty(NUM_TRIALS)\n",
    "  total_plays = 0\n",
    "\n",
    "  # initialization: play each bandit once\n",
    "  for j in range(len(bandits)):\n",
    "    x = bandits[j].pull()\n",
    "    total_plays += 1\n",
    "    bandits[j].update(x)\n",
    "  \n",
    "  for i in tqdm_notebook(range(NUM_TRIALS)):\n",
    "    j = np.argmax([ucb(b.p_estimate, total_plays, b.N) for b in bandits])\n",
    "    x = bandits[j].pull()\n",
    "    total_plays += 1\n",
    "    bandits[j].update(x)\n",
    "\n",
    "    # for the plot\n",
    "    rewards[i] = x\n",
    "  cumulative_average = np.cumsum(rewards) / (np.arange(NUM_TRIALS) + 1)\n",
    "\n",
    "  # plot moving average ctr\n",
    "  plt.plot(cumulative_average)\n",
    "  plt.plot(np.ones(NUM_TRIALS)*np.max(BANDIT_PROBABILITIES))\n",
    "  plt.xscale('log')\n",
    "  plt.show()\n",
    "\n",
    "  # plot moving average ctr linear\n",
    "  plt.plot(cumulative_average)\n",
    "  plt.plot(np.ones(NUM_TRIALS)*np.max(BANDIT_PROBABILITIES))\n",
    "  plt.show()\n",
    "\n",
    "  for b in bandits:\n",
    "    print(b.p_estimate)\n",
    "\n",
    "  print(\"total reward earned:\", rewards.sum())\n",
    "  print(\"overall win rate:\", rewards.sum() / NUM_TRIALS)\n",
    "  print(\"num times selected each bandit:\", [b.N for b in bandits])\n",
    "\n",
    "  return cumulative_average\n",
    "\n",
    "if __name__ == '__main__':\n",
    "  run_experiment()"
   ]
  },
  {
   "cell_type": "code",
   "execution_count": null,
   "id": "b6279c83",
   "metadata": {},
   "outputs": [],
   "source": []
  }
 ],
 "metadata": {
  "kernelspec": {
   "display_name": "Python 3",
   "language": "python",
   "name": "python3"
  },
  "language_info": {
   "codemirror_mode": {
    "name": "ipython",
    "version": 3
   },
   "file_extension": ".py",
   "mimetype": "text/x-python",
   "name": "python",
   "nbconvert_exporter": "python",
   "pygments_lexer": "ipython3",
   "version": "3.8.8"
  }
 },
 "nbformat": 4,
 "nbformat_minor": 5
}
